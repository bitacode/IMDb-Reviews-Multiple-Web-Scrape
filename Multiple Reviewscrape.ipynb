{
 "cells": [
  {
   "cell_type": "markdown",
   "id": "eb0f4a31",
   "metadata": {},
   "source": [
    "# Mengimport Libraries"
   ]
  },
  {
   "cell_type": "code",
   "execution_count": 1,
   "id": "d63e2570",
   "metadata": {},
   "outputs": [],
   "source": [
    "import pandas as pd\n",
    "import requests\n",
    "from bs4 import BeautifulSoup\n",
    "from time import sleep\n",
    "from random import randint"
   ]
  },
  {
   "cell_type": "markdown",
   "id": "73168ec7",
   "metadata": {},
   "source": [
    "# Mendefinisikan variabel"
   ]
  },
  {
   "cell_type": "code",
   "execution_count": 2,
   "id": "d580846a",
   "metadata": {},
   "outputs": [],
   "source": [
    "headers = {\"Accept-Language\" : \"en-US,en;q=0.5\"}"
   ]
  },
  {
   "cell_type": "code",
   "execution_count": 3,
   "id": "495358b9",
   "metadata": {},
   "outputs": [],
   "source": [
    "movie_title = []\n",
    "user_rating = []\n",
    "review_title = []\n",
    "user_name = []\n",
    "movie_review = []"
   ]
  },
  {
   "cell_type": "markdown",
   "id": "689ea44d",
   "metadata": {},
   "source": [
    "# Scraping data"
   ]
  },
  {
   "cell_type": "code",
   "execution_count": 5,
   "id": "3e3dd08c",
   "metadata": {},
   "outputs": [],
   "source": [
    "movie_id = ['tt4911656', 'tt1288645', 'tt0441641', 'tt0946998']\n",
    "\n",
    "for urls in movie_id:\n",
    "    urls = requests.get('https://www.imdb.com/title/'+str(urls)+'/reviews')\n",
    "    soup = BeautifulSoup(urls.text, 'html.parser')\n",
    "\n",
    "    review_data = soup.findAll('div', attrs= {'class': 'review-container'})\n",
    "    movie_data = soup.findAll('div', attrs= {'class': 'subpage_title_block'})\n",
    "    \n",
    "    for push in movie_data:\n",
    "\n",
    "        movietitle = push.h3.a.text\n",
    "        movie_title.append(movietitle)\n",
    "        \n",
    "    for store in review_data:\n",
    "    \n",
    "        rating = store.find('span', class_ = 'rating-other-user-rating').span.text if store.find('span', class_ = 'rating-other-user-rating') else 'null'\n",
    "        user_rating.append(rating)\n",
    "\n",
    "        title = store.find('a', class_ = 'title').text.lstrip().replace('\\n', '')\n",
    "        review_title.append(title)\n",
    "\n",
    "        username = store.find('span', class_ = 'display-name-link').a.text\n",
    "        user_name.append(username)\n",
    "\n",
    "        review = store.find('div', class_ = 'text show-more__control').text\n",
    "        movie_review.append(review)"
   ]
  },
  {
   "cell_type": "code",
   "execution_count": 6,
   "id": "dca0ae46",
   "metadata": {},
   "outputs": [],
   "source": [
    "movie_DF = pd.DataFrame({'User Rating': user_rating, 'Review Title': review_title, 'Username': user_name, 'Review': movie_review})"
   ]
  },
  {
   "cell_type": "code",
   "execution_count": 7,
   "id": "140cdcd6",
   "metadata": {},
   "outputs": [
    {
     "data": {
      "text/html": [
       "<div>\n",
       "<style scoped>\n",
       "    .dataframe tbody tr th:only-of-type {\n",
       "        vertical-align: middle;\n",
       "    }\n",
       "\n",
       "    .dataframe tbody tr th {\n",
       "        vertical-align: top;\n",
       "    }\n",
       "\n",
       "    .dataframe thead th {\n",
       "        text-align: right;\n",
       "    }\n",
       "</style>\n",
       "<table border=\"1\" class=\"dataframe\">\n",
       "  <thead>\n",
       "    <tr style=\"text-align: right;\">\n",
       "      <th></th>\n",
       "      <th>User Rating</th>\n",
       "      <th>Review Title</th>\n",
       "      <th>Username</th>\n",
       "      <th>Review</th>\n",
       "    </tr>\n",
       "  </thead>\n",
       "  <tbody>\n",
       "    <tr>\n",
       "      <th>0</th>\n",
       "      <td>8</td>\n",
       "      <td>:Gritty Love Within Political Sphere</td>\n",
       "      <td>witra_as</td>\n",
       "      <td>Twelve years after his first ever work as scri...</td>\n",
       "    </tr>\n",
       "    <tr>\n",
       "      <th>1</th>\n",
       "      <td>8</td>\n",
       "      <td>Capture the reality</td>\n",
       "      <td>linearattack</td>\n",
       "      <td>This movie is amazing in capturing Indonesian ...</td>\n",
       "    </tr>\n",
       "    <tr>\n",
       "      <th>2</th>\n",
       "      <td>8</td>\n",
       "      <td>Yet another side of Joko Anwar's filmmaking fl...</td>\n",
       "      <td>Sir_AmirSyarif</td>\n",
       "      <td>Joko Anwar's 'A Copy of My Mind' is pretty str...</td>\n",
       "    </tr>\n",
       "    <tr>\n",
       "      <th>3</th>\n",
       "      <td>8</td>\n",
       "      <td>Joko Anwar's Sentimental Approach Towards Urba...</td>\n",
       "      <td>luqmanski</td>\n",
       "      <td>A bleak romance portrayal of the slum side lif...</td>\n",
       "    </tr>\n",
       "    <tr>\n",
       "      <th>4</th>\n",
       "      <td>8</td>\n",
       "      <td>A Copy of Everything</td>\n",
       "      <td>reinaldowilliam818</td>\n",
       "      <td>I'll be damned, I'm an Indonesian and I must a...</td>\n",
       "    </tr>\n",
       "    <tr>\n",
       "      <th>...</th>\n",
       "      <td>...</td>\n",
       "      <td>...</td>\n",
       "      <td>...</td>\n",
       "      <td>...</td>\n",
       "    </tr>\n",
       "    <tr>\n",
       "      <th>94</th>\n",
       "      <td>9</td>\n",
       "      <td>A Breakthrough of Indonesian Movies!</td>\n",
       "      <td>anandserpi</td>\n",
       "      <td>When I first heard about the movie being made,...</td>\n",
       "    </tr>\n",
       "    <tr>\n",
       "      <th>95</th>\n",
       "      <td>8</td>\n",
       "      <td>Brilliant if uneven: Dead is in!</td>\n",
       "      <td>p-stepien</td>\n",
       "      <td>Joko Anwar is a former film critic turned dire...</td>\n",
       "    </tr>\n",
       "    <tr>\n",
       "      <th>96</th>\n",
       "      <td>7</td>\n",
       "      <td>Something new</td>\n",
       "      <td>savatose</td>\n",
       "      <td>The story is about an odd murders in the \"neve...</td>\n",
       "    </tr>\n",
       "    <tr>\n",
       "      <th>97</th>\n",
       "      <td>5</td>\n",
       "      <td>mixed of the killing, kill bill, and crouching...</td>\n",
       "      <td>faithfullmarx</td>\n",
       "      <td>At first i was expecting something 'out of the...</td>\n",
       "    </tr>\n",
       "    <tr>\n",
       "      <th>98</th>\n",
       "      <td>1</td>\n",
       "      <td>Capital A.</td>\n",
       "      <td>mondaymoviemania</td>\n",
       "      <td>Kala is big in hype, and the first 15 minutes ...</td>\n",
       "    </tr>\n",
       "  </tbody>\n",
       "</table>\n",
       "<p>99 rows × 4 columns</p>\n",
       "</div>"
      ],
      "text/plain": [
       "   User Rating                                       Review Title  \\\n",
       "0            8               :Gritty Love Within Political Sphere   \n",
       "1            8                                Capture the reality   \n",
       "2            8  Yet another side of Joko Anwar's filmmaking fl...   \n",
       "3            8  Joko Anwar's Sentimental Approach Towards Urba...   \n",
       "4            8                               A Copy of Everything   \n",
       "..         ...                                                ...   \n",
       "94           9               A Breakthrough of Indonesian Movies!   \n",
       "95           8                   Brilliant if uneven: Dead is in!   \n",
       "96           7                                      Something new   \n",
       "97           5  mixed of the killing, kill bill, and crouching...   \n",
       "98           1                                         Capital A.   \n",
       "\n",
       "              Username                                             Review  \n",
       "0             witra_as  Twelve years after his first ever work as scri...  \n",
       "1         linearattack  This movie is amazing in capturing Indonesian ...  \n",
       "2       Sir_AmirSyarif  Joko Anwar's 'A Copy of My Mind' is pretty str...  \n",
       "3            luqmanski  A bleak romance portrayal of the slum side lif...  \n",
       "4   reinaldowilliam818  I'll be damned, I'm an Indonesian and I must a...  \n",
       "..                 ...                                                ...  \n",
       "94          anandserpi  When I first heard about the movie being made,...  \n",
       "95           p-stepien  Joko Anwar is a former film critic turned dire...  \n",
       "96            savatose  The story is about an odd murders in the \"neve...  \n",
       "97       faithfullmarx  At first i was expecting something 'out of the...  \n",
       "98    mondaymoviemania  Kala is big in hype, and the first 15 minutes ...  \n",
       "\n",
       "[99 rows x 4 columns]"
      ]
     },
     "execution_count": 7,
     "metadata": {},
     "output_type": "execute_result"
    }
   ],
   "source": [
    "movie_DF"
   ]
  },
  {
   "cell_type": "markdown",
   "id": "4440baae",
   "metadata": {},
   "source": [
    "# Simpan file menjadi excel"
   ]
  },
  {
   "cell_type": "code",
   "execution_count": null,
   "id": "fd092550",
   "metadata": {},
   "outputs": [],
   "source": [
    "movie_DF.to_excel('JokoAnwarReview.xlsx')"
   ]
  },
  {
   "cell_type": "markdown",
   "id": "72e747e5",
   "metadata": {},
   "source": [
    "# Simpan file menjadi csv"
   ]
  },
  {
   "cell_type": "code",
   "execution_count": null,
   "id": "90bdcac9",
   "metadata": {},
   "outputs": [],
   "source": [
    "movie_DF.to_csv('JokoAnwarReview.csv')"
   ]
  }
 ],
 "metadata": {
  "kernelspec": {
   "display_name": "Python 3 (ipykernel)",
   "language": "python",
   "name": "python3"
  },
  "language_info": {
   "codemirror_mode": {
    "name": "ipython",
    "version": 3
   },
   "file_extension": ".py",
   "mimetype": "text/x-python",
   "name": "python",
   "nbconvert_exporter": "python",
   "pygments_lexer": "ipython3",
   "version": "3.9.12"
  }
 },
 "nbformat": 4,
 "nbformat_minor": 5
}
